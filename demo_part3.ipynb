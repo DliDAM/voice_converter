{
 "cells": [
  {
   "cell_type": "markdown",
   "metadata": {},
   "source": [
    "## Multi-Accent and Multi-Lingual Voice Clone Demo with MeloTTS"
   ]
  },
  {
   "cell_type": "code",
   "execution_count": 1,
   "metadata": {},
   "outputs": [
    {
     "name": "stderr",
     "output_type": "stream",
     "text": [
      "c:\\Users\\Admin\\anaconda3\\envs\\openvoice\\lib\\site-packages\\tqdm\\auto.py:21: TqdmWarning: IProgress not found. Please update jupyter and ipywidgets. See https://ipywidgets.readthedocs.io/en/stable/user_install.html\n",
      "  from .autonotebook import tqdm as notebook_tqdm\n"
     ]
    },
    {
     "name": "stdout",
     "output_type": "stream",
     "text": [
      "Importing the dtw module. When using in academic works please cite:\n",
      "  T. Giorgino. Computing and Visualizing Dynamic Time Warping Alignments in R: The dtw Package.\n",
      "  J. Stat. Soft., doi:10.18637/jss.v031.i07.\n",
      "\n"
     ]
    }
   ],
   "source": [
    "import os\n",
    "import torch\n",
    "from openvoice import se_extractor\n",
    "from openvoice.api import ToneColorConverter"
   ]
  },
  {
   "cell_type": "markdown",
   "metadata": {},
   "source": [
    "### Initialization\n",
    "\n",
    "In this example, we will use the checkpoints from OpenVoiceV2. OpenVoiceV2 is trained with more aggressive augmentations and thus demonstrate better robustness in some cases."
   ]
  },
  {
   "cell_type": "code",
   "execution_count": 4,
   "metadata": {},
   "outputs": [
    {
     "name": "stderr",
     "output_type": "stream",
     "text": [
      "c:\\Users\\Admin\\anaconda3\\envs\\openvoice\\lib\\site-packages\\torch\\nn\\utils\\weight_norm.py:28: UserWarning: torch.nn.utils.weight_norm is deprecated in favor of torch.nn.utils.parametrizations.weight_norm.\n",
      "  warnings.warn(\"torch.nn.utils.weight_norm is deprecated in favor of torch.nn.utils.parametrizations.weight_norm.\")\n"
     ]
    },
    {
     "name": "stdout",
     "output_type": "stream",
     "text": [
      "Loaded checkpoint 'checkpoints_v2/converter/checkpoint.pth'\n",
      "missing/unexpected keys: [] []\n"
     ]
    }
   ],
   "source": [
    "ckpt_converter = 'checkpoints_v2/converter'\n",
    "device = \"cuda\" if torch.cuda.is_available() else \"cpu\"\n",
    "output_dir = 'outputs_v2'\n",
    "\n",
    "tone_color_converter = ToneColorConverter(f'{ckpt_converter}/config.json', device=device)\n",
    "tone_color_converter.load_ckpt(f'{ckpt_converter}/checkpoint.pth')\n",
    "\n",
    "os.makedirs(output_dir, exist_ok=True)"
   ]
  },
  {
   "cell_type": "markdown",
   "metadata": {},
   "source": [
    "#### `tone_color_converter` \n",
    "- parameter\n",
    "    - config_path : config(구성) 파일 경로. `config.json` 파일에 정의된 형식대로 converter 구성\n",
    "    - device : inference시 사용할 장치 정의. `cuda:0` 이 기본값. `cuda`면 gpu, `cpu면` cpu 사용\n",
    "- method\n",
    "    - load_ckpt\n",
    "        - ```python\n",
    "            def load_ckpt(self, ckpt_path):\n",
    "            checkpoint_dict = torch.load(ckpt_path, map_location=torch.device(self.device))\n",
    "            a, b = self.model.load_state_dict(checkpoint_dict['model'], strict=False)\n",
    "            print(\"Loaded checkpoint '{}'\".format(ckpt_path))\n",
    "            print('missing/unexpected keys:', a, b)\n",
    "            ```\n",
    "        - `api.py`에 정의되어 있음\n",
    "        - `tone_color_converter`의 부모 클래스에 정의된 메서드.\n",
    "        - 가중치 파일을 torch.load()로 로드하고 앞서 정의한 `device`에 값을 저장한다.\n",
    "\n",
    "- 이후에 출력 파일 디렉토리를 생성한다."
   ]
  },
  {
   "cell_type": "markdown",
   "metadata": {},
   "source": [
    "### Obtain Tone Color Embedding\n",
    "`checkpoints_v2/ses` 폴더에서 바로 tone color embedding 로드 가능\n",
    "\n",
    "#### 예시 음성 주의 사항\n",
    "- 반드시 한 사람의 목소리를 입력해야함\n",
    "- 소음이 녹음되지 않게 주의해야함\n",
    "- 충분히 긴 시간이 녹음되어야함 (약 1분)\n",
    "- 발화 간에 공백이 길면 안됨"
   ]
  },
  {
   "cell_type": "markdown",
   "metadata": {},
   "source": [
    "### 주의\n",
    "- 아래 코드를 실행하기 위해서는 cuda, cudnn을 설치해야한다\n",
    "- `conda install -c conda-forge cudnn=8.1.0`를 실행해서 cuda, cudnn을 둘 다 설치하자."
   ]
  },
  {
   "cell_type": "code",
   "execution_count": 5,
   "metadata": {},
   "outputs": [
    {
     "name": "stdout",
     "output_type": "stream",
     "text": [
      "OpenVoice version: v2\n"
     ]
    },
    {
     "name": "stderr",
     "output_type": "stream",
     "text": [
      "c:\\Users\\Admin\\anaconda3\\envs\\openvoice\\lib\\site-packages\\torch\\functional.py:665: UserWarning: stft with return_complex=False is deprecated. In a future pytorch release, stft will return complex tensors for all inputs, and return_complex=False will raise an error.\n",
      "Note: you can still call torch.view_as_real on the complex output to recover the old return format. (Triggered internally at C:\\cb\\pytorch_1000000000000\\work\\aten\\src\\ATen\\native\\SpectralOps.cpp:878.)\n",
      "  return _VF.stft(input, n_fft, hop_length, win_length, window,  # type: ignore[attr-defined]\n",
      "c:\\Users\\Admin\\anaconda3\\envs\\openvoice\\lib\\site-packages\\torch\\nn\\modules\\conv.py:456: UserWarning: Plan failed with a cudnnException: CUDNN_BACKEND_EXECUTION_PLAN_DESCRIPTOR: cudnnFinalize Descriptor Failed cudnn_status: CUDNN_STATUS_NOT_SUPPORTED (Triggered internally at C:\\cb\\pytorch_1000000000000\\work\\aten\\src\\ATen\\native\\cudnn\\Conv_v8.cpp:919.)\n",
      "  return F.conv2d(input, weight, bias, self.stride,\n"
     ]
    }
   ],
   "source": [
    "reference_speaker = 'resources/example_reference.mp3' # 클론할 목소리가 들어갈 자리\n",
    "target_se, audio_name = se_extractor.get_se(reference_speaker, tone_color_converter, vad=False)"
   ]
  },
  {
   "cell_type": "markdown",
   "metadata": {},
   "source": [
    "#### 코드 설명\n",
    "`get_se`\n",
    "- parameter\n",
    "    - `audio_path` : 음성 파일 경로\n",
    "    - `vc_model` : voice_converter model\n",
    "    - `target_dir`(Optional) : 음성에서 tone color 가중치 추출 후 저장할 디렉토리. 디폴트로 'processed'로 설정됨.\n",
    "    - `vad` (Optional) : True 설정 시에는 Vad를 사용하고, False로 설정하면 whisper를 사용한다.\n",
    "\n",
    "\n",
    "- 내부 동작\n",
    "    - audio_name\n",
    "        - 주어진 오디오 파일 경로에서 파일 이름을 추출하고, 버전 및 해시 값을 조합하여 고유한 이름을 생성\n",
    "        - 즉, 경로에서 이름 추출하고 해시 값 추가해서 고유하게 만듦\n",
    "    - se_path \n",
    "        - `target_dir` + `audio_name` + `se.pth` 로 가중치의 경로를 생성함.\n",
    "    - vad 혹은 whisper를 사용해서 audio segment가 생성된다. 만약 segment 길이가 0이 되면 예외 처리 실행\n",
    "\n",
    "\n",
    "- 반환값\n",
    "    - speaker embedding과 audio_name\n",
    "    - `vc_model`의 `extract_se` 메서드로 segment embedding을 생성합니다.\n",
    "        - 우선 `librosa`로 segment를 로드하고 audio 데이터를 torch.FloatTensor로 변환\n",
    "        - device로 텐서 이동\n",
    "        - `unsqueeze(0)` 으로 차원 확장\n",
    "        - 스펙토그램 계산\n",
    "        - 스펙토그램을 encoder에 넣어서 audio segment 별로 Embedding 생성한다.\n",
    "        - 이후 embeddeing 값들을 `torch.stack`으로 쌓은 다음 원소별 평균을 구해서 최종 임베딩 값을 구한다."
   ]
  },
  {
   "cell_type": "markdown",
   "metadata": {},
   "source": [
    "#### Use MeloTTS as Base Speakers\n",
    "\n",
    "MeloTTS is a high-quality multi-lingual text-to-speech library by @MyShell.ai, supporting languages including English (American, British, Indian, Australian, Default), Spanish, French, Chinese, Japanese, Korean. In the following example, we will use the models in MeloTTS as the base speakers. "
   ]
  },
  {
   "cell_type": "code",
   "execution_count": null,
   "metadata": {},
   "outputs": [],
   "source": [
    "from melo.api import TTS\n",
    "\n",
    "texts = {\n",
    "    'EN_NEWEST': \"Did you ever hear a folk tale about a giant turtle?\",  # The newest English base speaker model\n",
    "    'EN': \"Did you ever hear a folk tale about a giant turtle?\",\n",
    "    'ES': \"El resplandor del sol acaricia las olas, pintando el cielo con una paleta deslumbrante.\",\n",
    "    'FR': \"La lueur dorée du soleil caresse les vagues, peignant le ciel d'une palette éblouissante.\",\n",
    "    'ZH': \"在这次vacation中，我们计划去Paris欣赏埃菲尔铁塔和卢浮宫的美景。\",\n",
    "    'JP': \"彼は毎朝ジョギングをして体を健康に保っています。\",\n",
    "    'KR': \"안녕하세요! 오늘은 날씨가 정말 좋네요.\",\n",
    "}\n",
    "\n",
    "\n",
    "src_path = f'{output_dir}/tmp.wav'\n",
    "\n",
    "# Speed is adjustable\n",
    "speed = 1.0\n",
    "\n",
    "for language, text in texts.items():\n",
    "    model = TTS(language=language, device=device)\n",
    "    speaker_ids = model.hps.data.spk2id\n",
    "    \n",
    "    for speaker_key in speaker_ids.keys():\n",
    "        speaker_id = speaker_ids[speaker_key]\n",
    "        speaker_key = speaker_key.lower().replace('_', '-')\n",
    "        \n",
    "        source_se = torch.load(f'checkpoints_v2/base_speakers/ses/{speaker_key}.pth', map_location=device)\n",
    "        model.tts_to_file(text, speaker_id, src_path, speed=speed)\n",
    "        save_path = f'{output_dir}/output_v2_{speaker_key}.wav'\n",
    "\n",
    "        # Run the tone color converter\n",
    "        encode_message = \"@MyShell\"\n",
    "        tone_color_converter.convert(\n",
    "            audio_src_path=src_path, \n",
    "            src_se=source_se, \n",
    "            tgt_se=target_se, \n",
    "            output_path=save_path,\n",
    "            message=encode_message)"
   ]
  }
 ],
 "metadata": {
  "kernelspec": {
   "display_name": "melo",
   "language": "python",
   "name": "python3"
  },
  "language_info": {
   "codemirror_mode": {
    "name": "ipython",
    "version": 3
   },
   "file_extension": ".py",
   "mimetype": "text/x-python",
   "name": "python",
   "nbconvert_exporter": "python",
   "pygments_lexer": "ipython3",
   "version": "3.9.19"
  }
 },
 "nbformat": 4,
 "nbformat_minor": 2
}
